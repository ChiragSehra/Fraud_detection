{
 "cells": [
  {
   "cell_type": "code",
   "execution_count": 3,
   "metadata": {},
   "outputs": [],
   "source": [
    "import numpy as np\n",
    "import pandas as pd\n",
    "import neupy\n",
    "from sklearn.preprocessing import LabelEncoder"
   ]
  },
  {
   "cell_type": "code",
   "execution_count": 5,
   "metadata": {},
   "outputs": [],
   "source": [
    "lb = LabelEncoder()"
   ]
  },
  {
   "cell_type": "code",
   "execution_count": 6,
   "metadata": {},
   "outputs": [
    {
     "data": {
      "text/html": [
       "<div>\n",
       "<style scoped>\n",
       "    .dataframe tbody tr th:only-of-type {\n",
       "        vertical-align: middle;\n",
       "    }\n",
       "\n",
       "    .dataframe tbody tr th {\n",
       "        vertical-align: top;\n",
       "    }\n",
       "\n",
       "    .dataframe thead th {\n",
       "        text-align: right;\n",
       "    }\n",
       "</style>\n",
       "<table border=\"1\" class=\"dataframe\">\n",
       "  <thead>\n",
       "    <tr style=\"text-align: right;\">\n",
       "      <th></th>\n",
       "      <th>ip</th>\n",
       "      <th>app</th>\n",
       "      <th>device</th>\n",
       "      <th>os</th>\n",
       "      <th>channel</th>\n",
       "      <th>click_time</th>\n",
       "      <th>is_attributed</th>\n",
       "    </tr>\n",
       "  </thead>\n",
       "  <tbody>\n",
       "    <tr>\n",
       "      <th>0</th>\n",
       "      <td>83230</td>\n",
       "      <td>3</td>\n",
       "      <td>1</td>\n",
       "      <td>13</td>\n",
       "      <td>379</td>\n",
       "      <td>0</td>\n",
       "      <td>0</td>\n",
       "    </tr>\n",
       "    <tr>\n",
       "      <th>1</th>\n",
       "      <td>17357</td>\n",
       "      <td>3</td>\n",
       "      <td>1</td>\n",
       "      <td>19</td>\n",
       "      <td>379</td>\n",
       "      <td>1</td>\n",
       "      <td>0</td>\n",
       "    </tr>\n",
       "    <tr>\n",
       "      <th>2</th>\n",
       "      <td>35810</td>\n",
       "      <td>3</td>\n",
       "      <td>1</td>\n",
       "      <td>13</td>\n",
       "      <td>379</td>\n",
       "      <td>2</td>\n",
       "      <td>0</td>\n",
       "    </tr>\n",
       "    <tr>\n",
       "      <th>3</th>\n",
       "      <td>45745</td>\n",
       "      <td>14</td>\n",
       "      <td>1</td>\n",
       "      <td>13</td>\n",
       "      <td>478</td>\n",
       "      <td>3</td>\n",
       "      <td>0</td>\n",
       "    </tr>\n",
       "    <tr>\n",
       "      <th>4</th>\n",
       "      <td>161007</td>\n",
       "      <td>3</td>\n",
       "      <td>1</td>\n",
       "      <td>13</td>\n",
       "      <td>379</td>\n",
       "      <td>4</td>\n",
       "      <td>0</td>\n",
       "    </tr>\n",
       "  </tbody>\n",
       "</table>\n",
       "</div>"
      ],
      "text/plain": [
       "       ip  app  device  os  channel  click_time  is_attributed\n",
       "0   83230    3       1  13      379           0              0\n",
       "1   17357    3       1  19      379           1              0\n",
       "2   35810    3       1  13      379           2              0\n",
       "3   45745   14       1  13      478           3              0\n",
       "4  161007    3       1  13      379           4              0"
      ]
     },
     "execution_count": 6,
     "metadata": {},
     "output_type": "execute_result"
    }
   ],
   "source": [
    "df_train = pd.read_csv(\"../Desktop/machine learning/kaggle/data/fraud_detection/train.csv\", nrows=10000)\n",
    "df_train['click_time'] = lb.fit_transform(df_train['click_time'])\n",
    "df_train = df_train.dropna(axis=1)\n",
    "df_train.head()"
   ]
  },
  {
   "cell_type": "code",
   "execution_count": 7,
   "metadata": {},
   "outputs": [],
   "source": [
    "X = df_train.iloc[:,df_train.columns!='is_attributed']\n",
    "Y = df_train.iloc[:,-1]"
   ]
  },
  {
   "cell_type": "code",
   "execution_count": 40,
   "metadata": {},
   "outputs": [
    {
     "name": "stdout",
     "output_type": "stream",
     "text": [
      "(2000,)\n"
     ]
    }
   ],
   "source": [
    "split = int(0.8*X.shape[0])\n",
    "\n",
    "X_train = X[:split]\n",
    "Y_train = Y[:split]\n",
    "\n",
    "X_test = X[split:]\n",
    "Y_test = Y[split:]\n",
    "print Y_test.shape"
   ]
  },
  {
   "cell_type": "code",
   "execution_count": 9,
   "metadata": {},
   "outputs": [
    {
     "name": "stderr",
     "output_type": "stream",
     "text": [
      "WARNING (theano.tensor.blas): Using NumPy C-API based implementation for BLAS functions.\n"
     ]
    }
   ],
   "source": [
    "from neupy import algorithms, layers\n"
   ]
  },
  {
   "cell_type": "code",
   "execution_count": 20,
   "metadata": {},
   "outputs": [
    {
     "name": "stdout",
     "output_type": "stream",
     "text": [
      "\n",
      "Main information\n",
      "\n",
      "[ALGORITHM] Momentum\n",
      "\n",
      "[OPTION] batch_size = 128\n",
      "[OPTION] verbose = True\n",
      "[OPTION] epoch_end_signal = None\n",
      "[OPTION] show_epoch = 1\n",
      "[OPTION] shuffle_data = True\n",
      "[OPTION] step = 0.01\n",
      "[OPTION] train_end_signal = None\n",
      "[OPTION] error = categorical_crossentropy\n",
      "[OPTION] addons = None\n",
      "[OPTION] momentum = 0.99\n",
      "[OPTION] nesterov = True\n",
      "\n",
      "[THEANO] Initializing Theano variables and functions.\n",
      "[THEANO] Initialization finished successfully. It took 0.44 seconds\n"
     ]
    }
   ],
   "source": [
    "network = algorithms.Momentum(\n",
    "[\n",
    "    layers.Input(6),\n",
    "    layers.Relu(500),\n",
    "    layers.Relu(300),\n",
    "    layers.Softmax(1),\n",
    "],\n",
    "\n",
    "    error = 'categorical_crossentropy',\n",
    "    step = 0.01,\n",
    "    verbose = True,\n",
    "    shuffle_data = True,\n",
    "    momentum = 0.99,\n",
    "    nesterov = True,\n",
    ")"
   ]
  },
  {
   "cell_type": "code",
   "execution_count": 21,
   "metadata": {},
   "outputs": [
    {
     "name": "stdout",
     "output_type": "stream",
     "text": [
      "\n",
      "Network's architecture\n",
      "\n",
      "-----------------------------------------------\n",
      "| # | Input shape | Layer type | Output shape |\n",
      "-----------------------------------------------\n",
      "| 1 |           6 |      Input |            6 |\n",
      "| 2 |           6 |       Relu |          500 |\n",
      "| 3 |         500 |       Relu |          300 |\n",
      "| 4 |         300 |    Softmax |            1 |\n",
      "-----------------------------------------------\n",
      "\n"
     ]
    }
   ],
   "source": [
    "network.architecture()"
   ]
  },
  {
   "cell_type": "code",
   "execution_count": 22,
   "metadata": {},
   "outputs": [
    {
     "name": "stderr",
     "output_type": "stream",
     "text": [
      "Time: 0:00:00 | 26%|#######                     | ETA:  0:00:00 | error: ------"
     ]
    },
    {
     "name": "stdout",
     "output_type": "stream",
     "text": [
      "\n",
      "Start training\n",
      "\n",
      "[TRAINING DATA] shapes: (8000, 6)\n",
      "[TEST DATA] shapes: (2000, 6)\n",
      "[TRAINING] Total epochs: 20\n",
      "\r\n",
      "---------------------------------------------------------\n",
      "|    Epoch    |  Train err  |  Valid err  |    Time     |\n",
      "---------------------------------------------------------\n"
     ]
    },
    {
     "name": "stderr",
     "output_type": "stream",
     "text": [
      "Time: 0:00:00 | 36%|##########                  | ETA:  0:00:00 | error: ------"
     ]
    },
    {
     "name": "stdout",
     "output_type": "stream",
     "text": [
      "|           1 |  2.3592e-19 |  3.3307e-19 |      547 ms |\n"
     ]
    },
    {
     "name": "stderr",
     "output_type": "stream",
     "text": [
      "Time: 0:00:00 | 36%|##########                  | ETA:  0:00:00 | error: ------"
     ]
    },
    {
     "name": "stdout",
     "output_type": "stream",
     "text": [
      "|           2 |  2.3592e-19 |  3.3307e-19 |      462 ms |\n"
     ]
    },
    {
     "name": "stderr",
     "output_type": "stream",
     "text": [
      "Time: 0:00:00 | 36%|#########                 | ETA:  0:00:00 | error: 8.67e-19"
     ]
    },
    {
     "name": "stdout",
     "output_type": "stream",
     "text": [
      "|           3 |  2.3592e-19 |  3.3307e-19 |      469 ms |\n"
     ]
    },
    {
     "name": "stderr",
     "output_type": "stream",
     "text": [
      "Time: 0:00:00 | 36%|##########                  | ETA:  0:00:00 | error: ------"
     ]
    },
    {
     "name": "stdout",
     "output_type": "stream",
     "text": [
      "|           4 |  2.3592e-19 |  3.3307e-19 |      485 ms |\n"
     ]
    },
    {
     "name": "stderr",
     "output_type": "stream",
     "text": [
      "Time: 0:00:00 | 36%|#########                 | ETA:  0:00:00 | error: 8.67e-19"
     ]
    },
    {
     "name": "stdout",
     "output_type": "stream",
     "text": [
      "|           5 |  2.3592e-19 |  3.3307e-19 |      494 ms |\n"
     ]
    },
    {
     "name": "stderr",
     "output_type": "stream",
     "text": [
      "Time: 0:00:00 | 36%|##########                  | ETA:  0:00:00 | error: ------"
     ]
    },
    {
     "name": "stdout",
     "output_type": "stream",
     "text": [
      "|           6 |  2.3592e-19 |  3.3307e-19 |      482 ms |\n"
     ]
    },
    {
     "name": "stderr",
     "output_type": "stream",
     "text": [
      "Time: 0:00:00 | 36%|##########                  | ETA:  0:00:00 | error: ------"
     ]
    },
    {
     "name": "stdout",
     "output_type": "stream",
     "text": [
      "|           7 |  2.3592e-19 |  3.3307e-19 |      503 ms |\n"
     ]
    },
    {
     "name": "stderr",
     "output_type": "stream",
     "text": [
      "Time: 0:00:00 | 36%|##########                  | ETA:  0:00:00 | error: ------"
     ]
    },
    {
     "name": "stdout",
     "output_type": "stream",
     "text": [
      "|           8 |  2.3592e-19 |  3.3307e-19 |      463 ms |\n"
     ]
    },
    {
     "name": "stderr",
     "output_type": "stream",
     "text": [
      "Time: 0:00:00 | 36%|##########                  | ETA:  0:00:00 | error: ------"
     ]
    },
    {
     "name": "stdout",
     "output_type": "stream",
     "text": [
      "|           9 |  2.3592e-19 |  3.3307e-19 |      474 ms |\n"
     ]
    },
    {
     "name": "stderr",
     "output_type": "stream",
     "text": [
      "Time: 0:00:00 | 26%|#######                     | ETA:  0:00:00 | error: ------"
     ]
    },
    {
     "name": "stdout",
     "output_type": "stream",
     "text": [
      "|          10 |  2.3592e-19 |  3.3307e-19 |      470 ms |\n"
     ]
    },
    {
     "name": "stderr",
     "output_type": "stream",
     "text": [
      "Time: 0:00:00 | 36%|##########                  | ETA:  0:00:00 | error: ------"
     ]
    },
    {
     "name": "stdout",
     "output_type": "stream",
     "text": [
      "|          11 |  2.3592e-19 |  3.3307e-19 |      663 ms |\n"
     ]
    },
    {
     "name": "stderr",
     "output_type": "stream",
     "text": [
      "Time: 0:00:00 | 36%|##########                  | ETA:  0:00:00 | error: ------"
     ]
    },
    {
     "name": "stdout",
     "output_type": "stream",
     "text": [
      "|          12 |  2.3592e-19 |  3.3307e-19 |      444 ms |\n"
     ]
    },
    {
     "name": "stderr",
     "output_type": "stream",
     "text": [
      "Time: 0:00:00 | 36%|#########                 | ETA:  0:00:00 | error: 8.67e-19"
     ]
    },
    {
     "name": "stdout",
     "output_type": "stream",
     "text": [
      "|          13 |  2.3592e-19 |  3.3307e-19 |      489 ms |\n"
     ]
    },
    {
     "name": "stderr",
     "output_type": "stream",
     "text": [
      "Time: 0:00:00 |  7%|##                          | ETA:  0:00:01 | error: ------"
     ]
    },
    {
     "name": "stdout",
     "output_type": "stream",
     "text": [
      "|          14 |  2.3592e-19 |  3.3307e-19 |      518 ms |\n"
     ]
    },
    {
     "name": "stderr",
     "output_type": "stream",
     "text": [
      "Time: 0:00:00 | 36%|##########                  | ETA:  0:00:00 | error: ------"
     ]
    },
    {
     "name": "stdout",
     "output_type": "stream",
     "text": [
      "|          15 |  2.3592e-19 |  3.3307e-19 |      828 ms |\n"
     ]
    },
    {
     "name": "stderr",
     "output_type": "stream",
     "text": [
      "Time: 0:00:00 | 36%|##########                  | ETA:  0:00:00 | error: ------"
     ]
    },
    {
     "name": "stdout",
     "output_type": "stream",
     "text": [
      "|          16 |  2.3592e-19 |  3.3307e-19 |      472 ms |\n"
     ]
    },
    {
     "name": "stderr",
     "output_type": "stream",
     "text": [
      "Time: 0:00:00 | 36%|##########                  | ETA:  0:00:00 | error: ------"
     ]
    },
    {
     "name": "stdout",
     "output_type": "stream",
     "text": [
      "|          17 |  2.3592e-19 |  3.3307e-19 |      491 ms |\n"
     ]
    },
    {
     "name": "stderr",
     "output_type": "stream",
     "text": [
      "Time: 0:00:00 | 36%|##########                  | ETA:  0:00:00 | error: ------"
     ]
    },
    {
     "name": "stdout",
     "output_type": "stream",
     "text": [
      "|          18 |  2.3592e-19 |  3.3307e-19 |      478 ms |\n"
     ]
    },
    {
     "name": "stderr",
     "output_type": "stream",
     "text": [
      "Time: 0:00:00 | 17%|####                        | ETA:  0:00:00 | error: ------"
     ]
    },
    {
     "name": "stdout",
     "output_type": "stream",
     "text": [
      "|          19 |  2.3592e-19 |  3.3307e-19 |      528 ms |\n"
     ]
    },
    {
     "name": "stderr",
     "output_type": "stream",
     "text": [
      "Time: 0:00:00 |N/A%|                           | ETA:  --:--:-- | error: ------"
     ]
    },
    {
     "name": "stdout",
     "output_type": "stream",
     "text": [
      "|          20 |  2.3592e-19 |  3.3307e-19 |      567 ms |\n",
      "---------------------------------------------------------\n",
      "\r\n"
     ]
    },
    {
     "name": "stderr",
     "output_type": "stream",
     "text": [
      "\r",
      "                                                                               \r"
     ]
    }
   ],
   "source": [
    "network.train(X_train,Y_train,X_test,Y_test, epochs = 20)"
   ]
  },
  {
   "cell_type": "code",
   "execution_count": 49,
   "metadata": {},
   "outputs": [
    {
     "data": {
      "image/png": "[encoded data removed]",
      "text/plain": [
       "<matplotlib.figure.Figure at 0x7f3db979ba10>"
      ]
     },
     "metadata": {},
     "output_type": "display_data"
    },
    {
     "ename": "RuntimeError",
     "evalue": "failed to execute ['dot', '-Tpdf', '-O', '/tmp/tmpM8y8rA'], make sure the Graphviz executables are on your systems' path",
     "output_type": "error",
     "traceback": [
      "\u001b[0;31m---------------------------------------------------------------------------\u001b[0m",
      "\u001b[0;31mRuntimeError\u001b[0m                              Traceback (most recent call last)",
      "\u001b[0;32m<ipython-input-49-2cc4cb807142>\u001b[0m in \u001b[0;36m<module>\u001b[0;34m()\u001b[0m\n\u001b[1;32m      1\u001b[0m \u001b[0;32mfrom\u001b[0m \u001b[0mneupy\u001b[0m \u001b[0;32mimport\u001b[0m \u001b[0mplots\u001b[0m\u001b[0;34m\u001b[0m\u001b[0m\n\u001b[1;32m      2\u001b[0m \u001b[0mplots\u001b[0m\u001b[0;34m.\u001b[0m\u001b[0merror_plot\u001b[0m\u001b[0;34m(\u001b[0m\u001b[0mnetwork\u001b[0m\u001b[0;34m)\u001b[0m\u001b[0;34m\u001b[0m\u001b[0m\n\u001b[0;32m----> 3\u001b[0;31m \u001b[0mplots\u001b[0m\u001b[0;34m.\u001b[0m\u001b[0mlayer_structure\u001b[0m\u001b[0;34m(\u001b[0m\u001b[0mnetwork\u001b[0m\u001b[0;34m)\u001b[0m\u001b[0;34m\u001b[0m\u001b[0m\n\u001b[0m",
      "\u001b[0;32m/home/chirag/anaconda2/lib/python2.7/site-packages/neupy/plots/layer_structure.pyc\u001b[0m in \u001b[0;36mlayer_structure\u001b[0;34m(connection, ignore_layers, filepath, show)\u001b[0m\n\u001b[1;32m    155\u001b[0m             \u001b[0moutput_id\u001b[0m \u001b[0;34m+=\u001b[0m \u001b[0;36m1\u001b[0m\u001b[0;34m\u001b[0m\u001b[0m\n\u001b[1;32m    156\u001b[0m \u001b[0;34m\u001b[0m\u001b[0m\n\u001b[0;32m--> 157\u001b[0;31m     \u001b[0mdigraph\u001b[0m\u001b[0;34m.\u001b[0m\u001b[0mrender\u001b[0m\u001b[0;34m(\u001b[0m\u001b[0mfilepath\u001b[0m\u001b[0;34m,\u001b[0m \u001b[0mview\u001b[0m\u001b[0;34m=\u001b[0m\u001b[0mshow\u001b[0m\u001b[0;34m)\u001b[0m\u001b[0;34m\u001b[0m\u001b[0m\n\u001b[0m",
      "\u001b[0;32m/home/chirag/anaconda2/lib/python2.7/site-packages/graphviz/files.pyc\u001b[0m in \u001b[0;36mrender\u001b[0;34m(self, filename, directory, view, cleanup)\u001b[0m\n\u001b[1;32m    144\u001b[0m         \u001b[0mfilepath\u001b[0m \u001b[0;34m=\u001b[0m \u001b[0mself\u001b[0m\u001b[0;34m.\u001b[0m\u001b[0msave\u001b[0m\u001b[0;34m(\u001b[0m\u001b[0mfilename\u001b[0m\u001b[0;34m,\u001b[0m \u001b[0mdirectory\u001b[0m\u001b[0;34m)\u001b[0m\u001b[0;34m\u001b[0m\u001b[0m\n\u001b[1;32m    145\u001b[0m \u001b[0;34m\u001b[0m\u001b[0m\n\u001b[0;32m--> 146\u001b[0;31m         \u001b[0mrendered\u001b[0m \u001b[0;34m=\u001b[0m \u001b[0mbackend\u001b[0m\u001b[0;34m.\u001b[0m\u001b[0mrender\u001b[0m\u001b[0;34m(\u001b[0m\u001b[0mself\u001b[0m\u001b[0;34m.\u001b[0m\u001b[0m_engine\u001b[0m\u001b[0;34m,\u001b[0m \u001b[0mself\u001b[0m\u001b[0;34m.\u001b[0m\u001b[0m_format\u001b[0m\u001b[0;34m,\u001b[0m \u001b[0mfilepath\u001b[0m\u001b[0;34m)\u001b[0m\u001b[0;34m\u001b[0m\u001b[0m\n\u001b[0m\u001b[1;32m    147\u001b[0m \u001b[0;34m\u001b[0m\u001b[0m\n\u001b[1;32m    148\u001b[0m         \u001b[0;32mif\u001b[0m \u001b[0mcleanup\u001b[0m\u001b[0;34m:\u001b[0m\u001b[0;34m\u001b[0m\u001b[0m\n",
      "\u001b[0;32m/home/chirag/anaconda2/lib/python2.7/site-packages/graphviz/backend.pyc\u001b[0m in \u001b[0;36mrender\u001b[0;34m(engine, format, filepath)\u001b[0m\n\u001b[1;32m     98\u001b[0m             raise RuntimeError('failed to execute %r, '\n\u001b[1;32m     99\u001b[0m                 \u001b[0;34m'make sure the Graphviz executables '\u001b[0m\u001b[0;34m\u001b[0m\u001b[0m\n\u001b[0;32m--> 100\u001b[0;31m                 'are on your systems\\' path' % args)\n\u001b[0m\u001b[1;32m    101\u001b[0m         \u001b[0;32melse\u001b[0m\u001b[0;34m:\u001b[0m  \u001b[0;31m# pragma: no cover\u001b[0m\u001b[0;34m\u001b[0m\u001b[0m\n\u001b[1;32m    102\u001b[0m             \u001b[0;32mraise\u001b[0m\u001b[0;34m\u001b[0m\u001b[0m\n",
      "\u001b[0;31mRuntimeError\u001b[0m: failed to execute ['dot', '-Tpdf', '-O', '/tmp/tmpM8y8rA'], make sure the Graphviz executables are on your systems' path"
     ]
    }
   ],
   "source": [
    "from neupy import plots\n",
    "plots.error_plot(network)\n"
   ]
  },
  {
   "cell_type": "code",
   "execution_count": null,
   "metadata": {},
   "outputs": [],
   "source": []
  },
  {
   "cell_type": "code",
   "execution_count": null,
   "metadata": {},
   "outputs": [],
   "source": []
  },
  {
   "cell_type": "code",
   "execution_count": null,
   "metadata": {},
   "outputs": [],
   "source": []
  }
 ],
 "metadata": {
  "kernelspec": {
   "display_name": "Python 2",
   "language": "python",
   "name": "python2"
  },
  "language_info": {
   "codemirror_mode": {
    "name": "ipython",
    "version": 2
   },
   "file_extension": ".py",
   "mimetype": "text/x-python",
   "name": "python",
   "nbconvert_exporter": "python",
   "pygments_lexer": "ipython2",
   "version": "2.7.14"
  }
 },
 "nbformat": 4,
 "nbformat_minor": 2
}
